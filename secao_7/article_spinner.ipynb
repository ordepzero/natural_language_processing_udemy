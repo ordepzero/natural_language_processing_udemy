{
 "cells": [
  {
   "cell_type": "code",
   "execution_count": 1,
   "id": "235b1ef5",
   "metadata": {},
   "outputs": [],
   "source": [
    "# Very basic article spinner for NLP class, which can be found at:\n",
    "# https://deeplearningcourses.com/c/data-science-natural-language-processing-in-python\n",
    "# https://www.udemy.com/data-science-natural-language-processing-in-python\n",
    "\n",
    "# Author: http://lazyprogrammer.me\n",
    "\n",
    "# A very bad article spinner using trigrams.\n",
    "from __future__ import print_function, division\n",
    "from future.utils import iteritems\n",
    "from builtins import range\n",
    "# Note: you may need to update your version of future\n",
    "# sudo pip install -U future\n",
    "\n",
    "\n",
    "import nltk\n",
    "import random\n",
    "import numpy as np\n",
    "\n",
    "from bs4 import BeautifulSoup"
   ]
  },
  {
   "cell_type": "code",
   "execution_count": 2,
   "id": "8f09acf3",
   "metadata": {},
   "outputs": [],
   "source": [
    "# load the reviews\n",
    "# data courtesy of http://www.cs.jhu.edu/~mdredze/datasets/sentiment/index2.html\n",
    "positive_reviews = BeautifulSoup(open('electronics/positive.review').read())\n",
    "positive_reviews = positive_reviews.findAll('review_text')\n"
   ]
  },
  {
   "cell_type": "code",
   "execution_count": 3,
   "id": "bb34eae7",
   "metadata": {},
   "outputs": [],
   "source": [
    "# extract trigrams and insert into dictionary\n",
    "# (w1, w3) is the key, [ w2 ] are the values\n",
    "trigrams = {}\n",
    "for review in positive_reviews:\n",
    "    s = review.text.lower()\n",
    "    tokens = nltk.tokenize.word_tokenize(s)\n",
    "    for i in range(len(tokens) - 2):\n",
    "        k = (tokens[i], tokens[i+2])\n",
    "        if k not in trigrams:\n",
    "            trigrams[k] = []\n",
    "        trigrams[k].append(tokens[i+1])\n",
    "\n",
    "# turn each array of middle-words into a probability vector\n",
    "trigram_probabilities = {}\n",
    "for k, words in iteritems(trigrams):\n",
    "    # create a dictionary of word -> count\n",
    "    if len(set(words)) > 1:\n",
    "        # only do this when there are different possibilities for a middle word\n",
    "        d = {}\n",
    "        n = 0\n",
    "        for w in words:\n",
    "            if w not in d:\n",
    "                d[w] = 0\n",
    "            d[w] += 1\n",
    "            n += 1\n",
    "        for w, c in iteritems(d):\n",
    "            d[w] = float(c) / n\n",
    "        trigram_probabilities[k] = d"
   ]
  },
  {
   "cell_type": "code",
   "execution_count": 4,
   "id": "7df5730d",
   "metadata": {},
   "outputs": [
    {
     "name": "stdout",
     "output_type": "stream",
     "text": [
      "Original: \n",
      "i've been using this cf card on my nikon 4300 for a couple of months now.  it writes fast compared to my other cf (canon stock, from another camera).  however, start up of the camera takes longer (because of the size), and as more pictures are stored, there is a noticeable degradation in speed in writing.  i've also used this on a dell axim, and it worked great!  no problem in formatting\n",
      "\n",
      "Spun:\n",
      "i've been using this cf card on my nikon 4300 for a couple of months now. it is fast compared to my other cf ( canon stock, from another camera recently. however, start up of the camera takes longer ( because of the size ), and pay more pictures are tops, there is a noticeable degradation in speed in place. i've also used this on my dell axim, and it worked great! no problem in formatting\n"
     ]
    }
   ],
   "source": [
    "def random_sample(d):\n",
    "    # choose a random sample from dictionary where values are the probabilities\n",
    "    r = random.random()\n",
    "    cumulative = 0\n",
    "    for w, p in iteritems(d):\n",
    "        cumulative += p\n",
    "        if r < cumulative:\n",
    "            return w\n",
    "\n",
    "\n",
    "def test_spinner():\n",
    "    review = random.choice(positive_reviews)\n",
    "    s = review.text.lower()\n",
    "    print(\"Original:\", s)\n",
    "    tokens = nltk.tokenize.word_tokenize(s)\n",
    "    for i in range(len(tokens) - 2):\n",
    "        if random.random() < 0.2: # 20% chance of replacement\n",
    "            k = (tokens[i], tokens[i+2])\n",
    "            if k in trigram_probabilities:\n",
    "                w = random_sample(trigram_probabilities[k])\n",
    "                tokens[i+1] = w\n",
    "    print(\"Spun:\")\n",
    "    print(\" \".join(tokens).replace(\" .\", \".\").replace(\" '\", \"'\").replace(\" ,\", \",\").replace(\"$ \", \"$\").replace(\" !\", \"!\"))\n",
    "\n",
    "\n",
    "if __name__ == '__main__':\n",
    "    test_spinner()"
   ]
  }
 ],
 "metadata": {
  "kernelspec": {
   "display_name": "Python 3 (ipykernel)",
   "language": "python",
   "name": "python3"
  },
  "language_info": {
   "codemirror_mode": {
    "name": "ipython",
    "version": 3
   },
   "file_extension": ".py",
   "mimetype": "text/x-python",
   "name": "python",
   "nbconvert_exporter": "python",
   "pygments_lexer": "ipython3",
   "version": "3.8.12"
  }
 },
 "nbformat": 4,
 "nbformat_minor": 5
}
