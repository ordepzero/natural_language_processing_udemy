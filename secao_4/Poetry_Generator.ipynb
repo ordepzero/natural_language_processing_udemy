{
 "cells": [
  {
   "cell_type": "code",
   "execution_count": 1,
   "metadata": {
    "id": "eLh8z_hEUCTY"
   },
   "outputs": [],
   "source": [
    "import numpy as np\n",
    "import string\n",
    "\n",
    "np.random.seed(1234)"
   ]
  },
  {
   "cell_type": "code",
   "execution_count": 2,
   "metadata": {
    "id": "TR6uHGtBUbFm"
   },
   "outputs": [],
   "source": [
    "initial = {} # start of a phrase\n",
    "first_order = {} # second word only\n",
    "second_order = {}"
   ]
  },
  {
   "cell_type": "code",
   "execution_count": 3,
   "metadata": {
    "id": "LNP9na4yUelU"
   },
   "outputs": [],
   "source": [
    "def remove_punctuation(s):\n",
    "    return s.translate(str.maketrans('','',string.punctuation))"
   ]
  },
  {
   "cell_type": "code",
   "execution_count": 4,
   "metadata": {
    "colab": {
     "base_uri": "https://localhost:8080/"
    },
    "id": "jknIxRKzUhwc",
    "outputId": "1f340a00-006b-45e7-c7a2-b8629524819f"
   },
   "outputs": [],
   "source": [
    "# !wget -nc https://raw.githubusercontent.com/lazyprogrammer/machine_learning_examples/master/hmm_class/robert_frost.txt"
   ]
  },
  {
   "cell_type": "code",
   "execution_count": 5,
   "metadata": {
    "id": "S0mbp9FPUk4o"
   },
   "outputs": [],
   "source": [
    "def add2dict(d, k, v):\n",
    "  if k not in d:\n",
    "    d[k] = []\n",
    "  d[k].append(v)\n",
    "\n",
    "# [cat, cat, dog, dog, dog, dog, dog, mouse, ...]"
   ]
  },
  {
   "cell_type": "code",
   "execution_count": 6,
   "metadata": {
    "id": "FoBDJVw3UrbE"
   },
   "outputs": [],
   "source": [
    "for line in open('robert_frost.txt'):\n",
    "  tokens = remove_punctuation(line.rstrip().lower()).split()\n",
    "\n",
    "  T = len(tokens)\n",
    "  for i in range(T):\n",
    "    t = tokens[i]\n",
    "    if i == 0:\n",
    "      # measure the distribution of the first word\n",
    "      initial[t] = initial.get(t, 0.) + 1\n",
    "    else:\n",
    "      t_1 = tokens[i-1]\n",
    "      if i == T - 1:\n",
    "        # measure probability of ending the line\n",
    "        add2dict(second_order, (t_1, t), 'END')\n",
    "      if i == 1:\n",
    "        # measure distribution of second word\n",
    "        # given only first word\n",
    "        add2dict(first_order, t_1, t)\n",
    "      else:\n",
    "        t_2 = tokens[i-2]\n",
    "        add2dict(second_order, (t_2, t_1), t)"
   ]
  },
  {
   "cell_type": "code",
   "execution_count": 7,
   "metadata": {
    "id": "dq98tbyWU7J5"
   },
   "outputs": [],
   "source": [
    "# normalize the distributions\n",
    "initial_total = sum(initial.values())\n",
    "for t, c in initial.items():\n",
    "    initial[t] = c / initial_total"
   ]
  },
  {
   "cell_type": "code",
   "execution_count": 8,
   "metadata": {
    "id": "gWr05mfxVBqH"
   },
   "outputs": [],
   "source": [
    "# convert [cat, cat, cat, dog, dog, dog, dog, mouse, ...]\n",
    "# into {cat: 0.5, dog: 0.4, mouse: 0.1}\n",
    "\n",
    "def list2pdict(ts):\n",
    "  # turn each list of possibilities into a dictionary of probabilities\n",
    "  d = {}\n",
    "  n = len(ts)\n",
    "  for t in ts:\n",
    "    d[t] = d.get(t, 0.) + 1\n",
    "  for t, c in d.items():\n",
    "    d[t] = c / n\n",
    "  return d"
   ]
  },
  {
   "cell_type": "code",
   "execution_count": 20,
   "metadata": {
    "id": "rR-QfKjZVMTC"
   },
   "outputs": [],
   "source": [
    "for t_1, ts in first_order.items():\n",
    "  # replace list with dictionary of probabilities\n",
    "  first_order[t_1] = list2pdict(ts)"
   ]
  },
  {
   "cell_type": "code",
   "execution_count": 10,
   "metadata": {
    "id": "HZC4AFs8VPZS"
   },
   "outputs": [],
   "source": [
    "for k, ts in second_order.items():\n",
    "  second_order[k] = list2pdict(ts)"
   ]
  },
  {
   "cell_type": "code",
   "execution_count": 11,
   "metadata": {
    "id": "oTSW8KwMVX8g"
   },
   "outputs": [],
   "source": [
    "def sample_word(d):\n",
    "  # print \"d:\", d\n",
    "  p0 = np.random.random()\n",
    "  # print \"p0:\", p0\n",
    "  cumulative = 0\n",
    "  for t, p in d.items():\n",
    "    cumulative += p\n",
    "    if p0 < cumulative:\n",
    "      return t\n",
    "  assert(False) # should never get here"
   ]
  },
  {
   "cell_type": "code",
   "execution_count": 12,
   "metadata": {
    "id": "rgLEb5NoVeUW"
   },
   "outputs": [],
   "source": [
    "def generate():\n",
    "  for i in range(4): # generate 4 lines\n",
    "    sentence = []\n",
    "\n",
    "    # initial word\n",
    "    w0 = sample_word(initial)\n",
    "    sentence.append(w0)\n",
    "\n",
    "    # sample second word\n",
    "    w1 = sample_word(first_order[w0])\n",
    "    sentence.append(w1)\n",
    "\n",
    "    # second-order transitions until END\n",
    "    while True:\n",
    "      w2 = sample_word(second_order[(w0, w1)])\n",
    "      if w2 == 'END':\n",
    "        break\n",
    "      sentence.append(w2)\n",
    "      w0 = w1\n",
    "      w1 = w2\n",
    "    print(' '.join(sentence))"
   ]
  },
  {
   "cell_type": "code",
   "execution_count": 13,
   "metadata": {
    "colab": {
     "base_uri": "https://localhost:8080/"
    },
    "id": "HnkxngVlVn7q",
    "outputId": "1b4f58c3-f36e-41c3-a16d-da71e92b3a51"
   },
   "outputs": [
    {
     "name": "stdout",
     "output_type": "stream",
     "text": [
      "i went to bed alone and left me\n",
      "might just as empty\n",
      "but it isnt as if and thats not all the money goes so fast\n",
      "you couldnt call it living for it aint\n"
     ]
    }
   ],
   "source": [
    "generate()"
   ]
  },
  {
   "cell_type": "code",
   "execution_count": 14,
   "metadata": {
    "id": "Rqzv5F79Vps7"
   },
   "outputs": [],
   "source": [
    "# Exercise:\n",
    "#\n",
    "# Determine the vocabulary size (V)\n",
    "# We know that pi has shape V, A1 has shape V x V, and A2 has shape V x V x V\n",
    "#\n",
    "# In comparison, how many values are stored in our dictionaries?"
   ]
  },
  {
   "cell_type": "code",
   "execution_count": 15,
   "metadata": {
    "id": "BQ3nEBnf69F7"
   },
   "outputs": [],
   "source": [
    "# Exercise 2:\n",
    "# We can skip the step where we accumulate all the possible next words in a list\n",
    "# E.g. [cat, cat, dog, dog, dog, ...]\n",
    "#\n",
    "# Instead, like we do with the initial state distribution, create the dictionary\n",
    "# of counts directly as you loop through the data.\n",
    "#\n",
    "# You'll no longer need list2pdict()"
   ]
  },
  {
   "cell_type": "code",
   "execution_count": 18,
   "metadata": {},
   "outputs": [
    {
     "data": {
      "text/plain": [
       "{'two': 0.005571030640668524,\n",
       " 'and': 0.08983286908077995,\n",
       " 'to': 0.034818941504178275,\n",
       " 'then': 0.008356545961002786,\n",
       " 'because': 0.0006963788300835655,\n",
       " 'though': 0.004874651810584958,\n",
       " 'had': 0.002785515320334262,\n",
       " 'in': 0.0201949860724234,\n",
       " 'oh': 0.002785515320334262,\n",
       " 'yet': 0.0020891364902506965,\n",
       " 'i': 0.08217270194986072,\n",
       " 'somewhere': 0.0006963788300835655,\n",
       " 'whose': 0.001392757660167131,\n",
       " 'his': 0.004874651810584958,\n",
       " 'he': 0.023676880222841225,\n",
       " 'my': 0.004874651810584958,\n",
       " 'between': 0.0020891364902506965,\n",
       " 'the': 0.057103064066852366,\n",
       " 'of': 0.0201949860724234,\n",
       " 'but': 0.035515320334261836,\n",
       " 'some': 0.003481894150417827,\n",
       " 'from': 0.006963788300835654,\n",
       " 'is': 0.003481894150417827,\n",
       " 'natures': 0.0006963788300835655,\n",
       " 'her': 0.001392757660167131,\n",
       " 'so': 0.009052924791086351,\n",
       " 'nothing': 0.001392757660167131,\n",
       " 'when': 0.006267409470752089,\n",
       " 'came': 0.0006963788300835655,\n",
       " 'one': 0.00766016713091922,\n",
       " 'proclaimed': 0.0006963788300835655,\n",
       " 'smoothlaid': 0.0006963788300835655,\n",
       " 'half': 0.0020891364902506965,\n",
       " 'up': 0.004874651810584958,\n",
       " 'a': 0.020891364902506964,\n",
       " 'disturbed': 0.001392757660167131,\n",
       " 'comes': 0.0006963788300835655,\n",
       " 'by': 0.00766016713091922,\n",
       " 'if': 0.008356545961002786,\n",
       " 'were': 0.0020891364902506965,\n",
       " 'ten': 0.0006963788300835655,\n",
       " 'as': 0.009749303621169917,\n",
       " 'it': 0.016016713091922007,\n",
       " 'lifted': 0.0006963788300835655,\n",
       " 'she': 0.011838440111420613,\n",
       " 'transfixed': 0.0006963788300835655,\n",
       " 'across': 0.0006963788300835655,\n",
       " 'was': 0.006267409470752089,\n",
       " 'once': 0.001392757660167131,\n",
       " 'that': 0.0201949860724234,\n",
       " 'looked': 0.0006963788300835655,\n",
       " 'stood': 0.0006963788300835655,\n",
       " 'you': 0.027855153203342618,\n",
       " 'me': 0.0006963788300835655,\n",
       " 'sometimes': 0.002785515320334262,\n",
       " 'brown': 0.001392757660167131,\n",
       " 'cross': 0.0006963788300835655,\n",
       " 'describing': 0.0006963788300835655,\n",
       " 'got': 0.0006963788300835655,\n",
       " 'walls': 0.0006963788300835655,\n",
       " 'like': 0.005571030640668524,\n",
       " 'upon': 0.001392757660167131,\n",
       " 'with': 0.012534818941504178,\n",
       " 'faster': 0.0006963788300835655,\n",
       " 'sitting': 0.0006963788300835655,\n",
       " 'according': 0.0006963788300835655,\n",
       " 'hes': 0.00766016713091922,\n",
       " 'or': 0.00766016713091922,\n",
       " 'incredulous': 0.0006963788300835655,\n",
       " 'wellâ€”iâ€”beâ€”': 0.0006963788300835655,\n",
       " 'on': 0.00766016713091922,\n",
       " 'should': 0.001392757660167131,\n",
       " 'yankees': 0.0006963788300835655,\n",
       " 'dont': 0.004874651810584958,\n",
       " 'until': 0.001392757660167131,\n",
       " 'after': 0.0006963788300835655,\n",
       " 'not': 0.009052924791086351,\n",
       " 'at': 0.004178272980501393,\n",
       " 'no': 0.009052924791086351,\n",
       " 'ive': 0.002785515320334262,\n",
       " 'while': 0.0006963788300835655,\n",
       " 'bout': 0.0006963788300835655,\n",
       " 'now': 0.002785515320334262,\n",
       " 'im': 0.003481894150417827,\n",
       " 'theyve': 0.0006963788300835655,\n",
       " 'flattered': 0.0006963788300835655,\n",
       " 'they': 0.013231197771587743,\n",
       " 'always': 0.0006963788300835655,\n",
       " 'ill': 0.006963788300835654,\n",
       " 'theyll': 0.0006963788300835655,\n",
       " 'for': 0.004874651810584958,\n",
       " 'couldnt': 0.001392757660167131,\n",
       " 'voted': 0.0006963788300835655,\n",
       " 'which': 0.0020891364902506965,\n",
       " 'their': 0.001392757660167131,\n",
       " 'wentworth': 0.0006963788300835655,\n",
       " 'only': 0.003481894150417827,\n",
       " 'rights': 0.0006963788300835655,\n",
       " 'has': 0.001392757660167131,\n",
       " 'itd': 0.0006963788300835655,\n",
       " 'said': 0.0006963788300835655,\n",
       " 'hed': 0.003481894150417827,\n",
       " 'all': 0.005571030640668524,\n",
       " 'gnaws': 0.0006963788300835655,\n",
       " 'last': 0.0006963788300835655,\n",
       " 'over': 0.003481894150417827,\n",
       " 'well': 0.003481894150417827,\n",
       " 'off': 0.001392757660167131,\n",
       " 'old': 0.001392757660167131,\n",
       " 'thered': 0.0006963788300835655,\n",
       " 'someday': 0.0006963788300835655,\n",
       " 'today': 0.0006963788300835655,\n",
       " 'huh': 0.0006963788300835655,\n",
       " 'lets': 0.0020891364902506965,\n",
       " 'youve': 0.0006963788300835655,\n",
       " 'can': 0.0006963788300835655,\n",
       " 'be': 0.0020891364902506965,\n",
       " 'we': 0.010445682451253482,\n",
       " 'ascending': 0.0006963788300835655,\n",
       " 'sos': 0.001392757660167131,\n",
       " 'hadnt': 0.0006963788300835655,\n",
       " 'look': 0.0006963788300835655,\n",
       " 'what': 0.009749303621169917,\n",
       " 'however': 0.001392757660167131,\n",
       " 'come': 0.002785515320334262,\n",
       " 'its': 0.014623955431754874,\n",
       " 'perhaps': 0.001392757660167131,\n",
       " 'excuse': 0.0006963788300835655,\n",
       " 'who': 0.004178272980501393,\n",
       " 'life': 0.0006963788300835655,\n",
       " 'our': 0.001392757660167131,\n",
       " 'through': 0.001392757660167131,\n",
       " 'except': 0.001392757660167131,\n",
       " 'books': 0.001392757660167131,\n",
       " 'where': 0.005571030640668524,\n",
       " 'enough': 0.0006963788300835655,\n",
       " 'unfortunately': 0.0006963788300835655,\n",
       " 'boys': 0.0006963788300835655,\n",
       " 'shatter': 0.0006963788300835655,\n",
       " 'how': 0.004178272980501393,\n",
       " 'till': 0.001392757660167131,\n",
       " 'tried': 0.0006963788300835655,\n",
       " 'having': 0.0006963788300835655,\n",
       " 'here': 0.002785515320334262,\n",
       " 'take': 0.0020891364902506965,\n",
       " 'why': 0.0020891364902506965,\n",
       " 'goodlooking': 0.0006963788300835655,\n",
       " 'both': 0.0006963788300835655,\n",
       " 'legitimately': 0.0006963788300835655,\n",
       " 'there': 0.004178272980501393,\n",
       " 'crosslegged': 0.0006963788300835655,\n",
       " 'alias': 0.0006963788300835655,\n",
       " 'about': 0.0006963788300835655,\n",
       " 'theres': 0.0006963788300835655,\n",
       " 'give': 0.0006963788300835655,\n",
       " 'thrown': 0.0006963788300835655,\n",
       " 'unless': 0.0006963788300835655,\n",
       " 'than': 0.001392757660167131,\n",
       " 'behind': 0.001392757660167131,\n",
       " 'mother': 0.004874651810584958,\n",
       " 'summoning': 0.0006963788300835655,\n",
       " 'whos': 0.0006963788300835655,\n",
       " 'son': 0.006267409470752089,\n",
       " 'done': 0.0006963788300835655,\n",
       " 'rather': 0.0006963788300835655,\n",
       " 'tell': 0.001392757660167131,\n",
       " 'yes': 0.005571030640668524,\n",
       " 'against': 0.0006963788300835655,\n",
       " 'halting': 0.0006963788300835655,\n",
       " 'never': 0.0006963788300835655,\n",
       " 'another': 0.001392757660167131,\n",
       " 'right': 0.0006963788300835655,\n",
       " 'father': 0.0006963788300835655,\n",
       " 'especially': 0.0006963788300835655,\n",
       " 'might': 0.0006963788300835655,\n",
       " 'toffile': 0.003481894150417827,\n",
       " 'struck': 0.0006963788300835655,\n",
       " 'began': 0.0006963788300835655,\n",
       " 'waiting': 0.0006963788300835655,\n",
       " 'flashed': 0.0006963788300835655,\n",
       " 'smoke': 0.0006963788300835655,\n",
       " 'hand': 0.0006963788300835655,\n",
       " 'stillgoing': 0.0006963788300835655,\n",
       " 'before': 0.001392757660167131,\n",
       " 'almost': 0.0006963788300835655,\n",
       " 'quick': 0.0006963788300835655,\n",
       " 'let': 0.001392757660167131,\n",
       " 'brushing': 0.0006963788300835655,\n",
       " 'thats': 0.003481894150417827,\n",
       " '2o3': 0.0006963788300835655,\n",
       " 'wed': 0.0006963788300835655,\n",
       " 'could': 0.0006963788300835655,\n",
       " 'among': 0.0020891364902506965,\n",
       " 'ancestral': 0.0006963788300835655,\n",
       " 'someone': 0.0006963788300835655,\n",
       " 'thence': 0.0006963788300835655,\n",
       " 'made': 0.0006963788300835655,\n",
       " 'are': 0.0006963788300835655,\n",
       " 'strolled': 0.0006963788300835655,\n",
       " 'anyone': 0.001392757660167131,\n",
       " 'this': 0.004178272980501393,\n",
       " 'provision': 0.0006963788300835655,\n",
       " 'drawn': 0.001392757660167131,\n",
       " 'stark': 0.0006963788300835655,\n",
       " 'would': 0.001392757660167131,\n",
       " 'several': 0.0006963788300835655,\n",
       " 'under': 0.001392757660167131,\n",
       " 'just': 0.0006963788300835655,\n",
       " 'does': 0.001392757660167131,\n",
       " 'bowed': 0.0006963788300835655,\n",
       " 'beyond': 0.001392757660167131,\n",
       " 'four': 0.0006963788300835655,\n",
       " 'dyou': 0.0006963788300835655,\n",
       " 'studying': 0.0006963788300835655,\n",
       " 'first': 0.001392757660167131,\n",
       " 'bless': 0.001392757660167131,\n",
       " 'shes': 0.0020891364902506965,\n",
       " 'heres': 0.0006963788300835655,\n",
       " 'making': 0.0006963788300835655,\n",
       " 'see': 0.0006963788300835655,\n",
       " 'strung': 0.0006963788300835655,\n",
       " 'something': 0.001392757660167131,\n",
       " 'speaking': 0.0006963788300835655,\n",
       " 'strangely': 0.0006963788300835655,\n",
       " 'call': 0.001392757660167131,\n",
       " 'nor': 0.002785515320334262,\n",
       " 'nine': 0.0006963788300835655,\n",
       " 'anything': 0.0006963788300835655,\n",
       " 'folks': 0.0006963788300835655,\n",
       " 'mebbe': 0.0006963788300835655,\n",
       " 'more': 0.0006963788300835655,\n",
       " 'will': 0.001392757660167131,\n",
       " 'nowhere': 0.0006963788300835655,\n",
       " 'builder': 0.0006963788300835655,\n",
       " 'whatever': 0.0006963788300835655,\n",
       " 'inscription': 0.0006963788300835655,\n",
       " 'winds': 0.0006963788300835655,\n",
       " 'moisture': 0.0006963788300835655,\n",
       " 'heaven': 0.0006963788300835655,\n",
       " 'back': 0.001392757660167131,\n",
       " 'may': 0.0006963788300835655,\n",
       " 'great': 0.0006963788300835655,\n",
       " 'long': 0.0006963788300835655,\n",
       " 'besides': 0.0006963788300835655,\n",
       " 'still': 0.001392757660167131,\n",
       " 'charge': 0.0006963788300835655,\n",
       " 'make': 0.001392757660167131,\n",
       " 'someones': 0.0006963788300835655,\n",
       " 'into': 0.0006963788300835655,\n",
       " 'weep': 0.0006963788300835655,\n",
       " 'your': 0.0006963788300835655,\n",
       " 'cold': 0.0006963788300835655,\n",
       " 'too': 0.001392757660167131,\n",
       " 'drink': 0.0006963788300835655,\n",
       " 'wherever': 0.0006963788300835655,\n",
       " 'birch': 0.0006963788300835655,\n",
       " 'time': 0.0006963788300835655,\n",
       " 'small': 0.0006963788300835655,\n",
       " 'out': 0.0006963788300835655,\n",
       " 'awake': 0.0006963788300835655,\n",
       " 'wishing': 0.0006963788300835655,\n",
       " 'saturn': 0.0006963788300835655,\n",
       " 'speculation': 0.0006963788300835655,\n",
       " 'theirs': 0.0006963788300835655,\n",
       " 'uttered': 0.0006963788300835655,\n",
       " 'trembled': 0.0006963788300835655,\n",
       " 'appear': 0.0006963788300835655,\n",
       " 'around': 0.0006963788300835655,\n",
       " 'since': 0.0006963788300835655,\n",
       " 'lord': 0.0006963788300835655,\n",
       " 'havent': 0.001392757660167131,\n",
       " 'whats': 0.002785515320334262,\n",
       " 'estelles': 0.001392757660167131,\n",
       " 'weve': 0.0006963788300835655,\n",
       " 'left': 0.0006963788300835655,\n",
       " 'hell': 0.0006963788300835655,\n",
       " 'skyhigh': 0.0006963788300835655,\n",
       " 'arent': 0.0006963788300835655,\n",
       " 'john': 0.004178272980501393,\n",
       " 'better': 0.0006963788300835655,\n",
       " 'reason': 0.0006963788300835655,\n",
       " 'such': 0.0006963788300835655,\n",
       " 'twas': 0.0006963788300835655,\n",
       " 'johns': 0.001392757660167131,\n",
       " 'estelle': 0.0006963788300835655,\n",
       " 'farmers': 0.0006963788300835655,\n",
       " 'full': 0.0006963788300835655,\n",
       " 'moving': 0.0006963788300835655,\n",
       " 'nothings': 0.0006963788300835655,\n",
       " 'twenty': 0.0006963788300835655,\n",
       " 'receipted': 0.0006963788300835655,\n",
       " 'wampum': 0.0006963788300835655,\n",
       " 'cant': 0.0006963788300835655,\n",
       " 'being': 0.0006963788300835655,\n",
       " 'oho': 0.0006963788300835655,\n",
       " 'bad': 0.0006963788300835655,\n",
       " 'nonsense': 0.0006963788300835655,\n",
       " 'whod': 0.0006963788300835655,\n",
       " 'say': 0.0006963788300835655,\n",
       " 'youll': 0.0006963788300835655,\n",
       " 'coming': 0.0006963788300835655,\n",
       " 'isnt': 0.0006963788300835655,\n",
       " 'do': 0.0006963788300835655,\n",
       " 'content': 0.0006963788300835655,\n",
       " 'an': 0.0006963788300835655}"
      ]
     },
     "execution_count": 18,
     "metadata": {},
     "output_type": "execute_result"
    }
   ],
   "source": [
    "initial"
   ]
  }
 ],
 "metadata": {
  "colab": {
   "collapsed_sections": [],
   "name": "Poetry Generator.ipynb",
   "provenance": []
  },
  "kernelspec": {
   "display_name": "Python 3",
   "language": "python",
   "name": "python3"
  },
  "language_info": {
   "codemirror_mode": {
    "name": "ipython",
    "version": 3
   },
   "file_extension": ".py",
   "mimetype": "text/x-python",
   "name": "python",
   "nbconvert_exporter": "python",
   "pygments_lexer": "ipython3",
   "version": "3.8.3"
  }
 },
 "nbformat": 4,
 "nbformat_minor": 1
}
